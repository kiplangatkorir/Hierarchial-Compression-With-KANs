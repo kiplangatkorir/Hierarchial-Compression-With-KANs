{
  "nbformat": 4,
  "nbformat_minor": 0,
  "metadata": {
    "colab": {
      "provenance": [],
      "authorship_tag": "ABX9TyOpBleJGYG6b4oYVybNYIfL",
      "include_colab_link": true
    },
    "kernelspec": {
      "name": "python3",
      "display_name": "Python 3"
    },
    "language_info": {
      "name": "python"
    }
  },
  "cells": [
    {
      "cell_type": "markdown",
      "metadata": {
        "id": "view-in-github",
        "colab_type": "text"
      },
      "source": [
        "<a href=\"https://colab.research.google.com/github/kiplangatkorir/Hierarchial-Compression-With-KANs/blob/main/kan_compression.ipynb\" target=\"_parent\"><img src=\"https://colab.research.google.com/assets/colab-badge.svg\" alt=\"Open In Colab\"/></a>"
      ]
    },
    {
      "cell_type": "code",
      "execution_count": 46,
      "metadata": {
        "colab": {
          "base_uri": "https://localhost:8080/"
        },
        "id": "UNeAypEFTjf3",
        "outputId": "0257386e-bf8f-4ac7-d621-116da41be7ac"
      },
      "outputs": [
        {
          "output_type": "stream",
          "name": "stdout",
          "text": [
            "Requirement already satisfied: torch in /usr/local/lib/python3.10/dist-packages (2.4.1+cu121)\n",
            "Requirement already satisfied: transformers in /usr/local/lib/python3.10/dist-packages (4.44.2)\n",
            "Requirement already satisfied: filelock in /usr/local/lib/python3.10/dist-packages (from torch) (3.16.1)\n",
            "Requirement already satisfied: typing-extensions>=4.8.0 in /usr/local/lib/python3.10/dist-packages (from torch) (4.12.2)\n",
            "Requirement already satisfied: sympy in /usr/local/lib/python3.10/dist-packages (from torch) (1.13.3)\n",
            "Requirement already satisfied: networkx in /usr/local/lib/python3.10/dist-packages (from torch) (3.3)\n",
            "Requirement already satisfied: jinja2 in /usr/local/lib/python3.10/dist-packages (from torch) (3.1.4)\n",
            "Requirement already satisfied: fsspec in /usr/local/lib/python3.10/dist-packages (from torch) (2024.6.1)\n",
            "Requirement already satisfied: huggingface-hub<1.0,>=0.23.2 in /usr/local/lib/python3.10/dist-packages (from transformers) (0.24.7)\n",
            "Requirement already satisfied: numpy>=1.17 in /usr/local/lib/python3.10/dist-packages (from transformers) (1.26.4)\n",
            "Requirement already satisfied: packaging>=20.0 in /usr/local/lib/python3.10/dist-packages (from transformers) (24.1)\n",
            "Requirement already satisfied: pyyaml>=5.1 in /usr/local/lib/python3.10/dist-packages (from transformers) (6.0.2)\n",
            "Requirement already satisfied: regex!=2019.12.17 in /usr/local/lib/python3.10/dist-packages (from transformers) (2024.9.11)\n",
            "Requirement already satisfied: requests in /usr/local/lib/python3.10/dist-packages (from transformers) (2.32.3)\n",
            "Requirement already satisfied: safetensors>=0.4.1 in /usr/local/lib/python3.10/dist-packages (from transformers) (0.4.5)\n",
            "Requirement already satisfied: tokenizers<0.20,>=0.19 in /usr/local/lib/python3.10/dist-packages (from transformers) (0.19.1)\n",
            "Requirement already satisfied: tqdm>=4.27 in /usr/local/lib/python3.10/dist-packages (from transformers) (4.66.5)\n",
            "Requirement already satisfied: MarkupSafe>=2.0 in /usr/local/lib/python3.10/dist-packages (from jinja2->torch) (2.1.5)\n",
            "Requirement already satisfied: charset-normalizer<4,>=2 in /usr/local/lib/python3.10/dist-packages (from requests->transformers) (3.3.2)\n",
            "Requirement already satisfied: idna<4,>=2.5 in /usr/local/lib/python3.10/dist-packages (from requests->transformers) (3.10)\n",
            "Requirement already satisfied: urllib3<3,>=1.21.1 in /usr/local/lib/python3.10/dist-packages (from requests->transformers) (2.2.3)\n",
            "Requirement already satisfied: certifi>=2017.4.17 in /usr/local/lib/python3.10/dist-packages (from requests->transformers) (2024.8.30)\n",
            "Requirement already satisfied: mpmath<1.4,>=1.1.0 in /usr/local/lib/python3.10/dist-packages (from sympy->torch) (1.3.0)\n"
          ]
        }
      ],
      "source": [
        "pip install torch transformers"
      ]
    },
    {
      "cell_type": "code",
      "source": [
        "import torch\n",
        "import torch.nn as nn\n",
        "from transformers import DistilBertModel, DistilBertConfig\n"
      ],
      "metadata": {
        "id": "iEG1lQfiuun0"
      },
      "execution_count": 62,
      "outputs": []
    },
    {
      "cell_type": "code",
      "source": [
        "class KANLayer(nn.Module):\n",
        "    def __init__(self, input_dim, output_dim, p=100):\n",
        "        super().__init__()\n",
        "        self.input_dim = input_dim\n",
        "        self.output_dim = output_dim\n",
        "        self.p = p\n",
        "\n",
        "        # Initialize psi and phi functions with float tensors\n",
        "        self.psi = nn.Parameter(torch.randn(5, p))\n",
        "        self.phi1 = nn.Parameter(torch.randn(5, input_dim))\n",
        "        self.phi2 = nn.Parameter(torch.randn(5, output_dim))\n",
        "\n",
        "    def forward(self):\n",
        "        i = torch.arange(self.input_dim).view(1, -1, 1)\n",
        "        j = torch.arange(self.output_dim).view(1, 1, -1)\n",
        "\n",
        "        phi_sum = self.phi1[:, :, None] + self.phi2[:, None, :]\n",
        "        psi_input = torch.clamp((phi_sum * (self.p - 1)).long(), 0, self.p - 1)\n",
        "\n",
        "        # Reshape psi_input to have 2 dimensions to match self.psi\n",
        "        # This assumes you want to gather along dimension 1 of self.psi\n",
        "        psi_input = psi_input.view(psi_input.size(0), -1)\n",
        "\n",
        "        weights = self.psi.gather(1, psi_input).sum(dim=0)\n",
        "\n",
        "        # Reshape weights back to the desired output shape (input_dim, output_dim)\n",
        "        weights = weights.view(self.input_dim, self.output_dim)\n",
        "\n",
        "        return weights"
      ],
      "metadata": {
        "id": "VxpaaTjdylCZ"
      },
      "execution_count": 73,
      "outputs": []
    },
    {
      "cell_type": "code",
      "source": [
        "\n",
        "\n",
        "class KANLinear(nn.Module):\n",
        "    def __init__(self, input_dim, output_dim, p=100):\n",
        "        super().__init__()\n",
        "        self.kan_layer = KANLayer(input_dim, output_dim, p)\n",
        "        self.weight = None\n",
        "\n",
        "    def forward(self, x):\n",
        "        if self.weight is None:\n",
        "            self.weight = self.kan_layer()\n",
        "        return torch.matmul(x, self.weight)\n",
        "\n",
        "def replace_linear_with_kan(module, p=100):\n",
        "    for name, child in module.named_children():\n",
        "        if isinstance(child, nn.Linear):\n",
        "            setattr(module, name, KANLinear(child.in_features, child.out_features, p))\n",
        "        else:\n",
        "            replace_linear_with_kan(child, p)\n"
      ],
      "metadata": {
        "id": "CvBVk-eSxWZK"
      },
      "execution_count": 74,
      "outputs": []
    },
    {
      "cell_type": "code",
      "source": [
        "\n",
        "model = DistilBertModel.from_pretrained('distilbert-base-uncased')"
      ],
      "metadata": {
        "id": "ee3agqwvvX4j"
      },
      "execution_count": 75,
      "outputs": []
    },
    {
      "cell_type": "code",
      "source": [
        "replace_linear_with_kan(model)"
      ],
      "metadata": {
        "id": "sbYyqrA1vo1D"
      },
      "execution_count": 76,
      "outputs": []
    },
    {
      "cell_type": "code",
      "source": [
        "# Example usage\n",
        "input_ids = torch.randint(0, 1000, (1, 10))  # Batch size 1, sequence length 10\n",
        "outputs = model(input_ids)"
      ],
      "metadata": {
        "id": "jhAxDBqpwcXc"
      },
      "execution_count": 77,
      "outputs": []
    },
    {
      "cell_type": "code",
      "source": [
        "print(f\"Output shape: {outputs.last_hidden_state.shape}\")\n"
      ],
      "metadata": {
        "colab": {
          "base_uri": "https://localhost:8080/"
        },
        "id": "neY2rbZ9y1pv",
        "outputId": "211c4774-fa28-4103-d374-c0d8b8fbd109"
      },
      "execution_count": 78,
      "outputs": [
        {
          "output_type": "stream",
          "name": "stdout",
          "text": [
            "Output shape: torch.Size([1, 10, 768])\n"
          ]
        }
      ]
    },
    {
      "cell_type": "code",
      "source": [
        "# Fine-tuning setup (example for binary classification)\n",
        "class DistilBertForSequenceClassification(nn.Module):\n",
        "    def __init__(self, pretrained_model, num_labels=2):\n",
        "        super().__init__()\n",
        "        self.distilbert = pretrained_model\n",
        "        self.classifier = nn.Linear(768, num_labels)\n",
        "\n",
        "    def forward(self, input_ids, attention_mask=None):\n",
        "        outputs = self.distilbert(input_ids, attention_mask=attention_mask)\n",
        "        pooled_output = outputs.last_hidden_state[:, 0]  # Use [CLS] token\n",
        "        return self.classifier(pooled_output)"
      ],
      "metadata": {
        "id": "NVk0jK3Gy8Oi"
      },
      "execution_count": 79,
      "outputs": []
    },
    {
      "cell_type": "code",
      "source": [
        "# Create the classification model\n",
        "classification_model = DistilBertForSequenceClassification(model)"
      ],
      "metadata": {
        "id": "BH54_AiczAPX"
      },
      "execution_count": 80,
      "outputs": []
    },
    {
      "cell_type": "code",
      "source": [
        "# Define loss function and optimizer\n",
        "criterion = nn.CrossEntropyLoss()\n",
        "optimizer = torch.optim.AdamW(classification_model.parameters(), lr=1e-5)"
      ],
      "metadata": {
        "id": "BQdxrYqfzEX5"
      },
      "execution_count": 81,
      "outputs": []
    }
  ]
}