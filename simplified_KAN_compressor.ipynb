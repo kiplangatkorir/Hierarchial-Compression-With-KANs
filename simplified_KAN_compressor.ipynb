{
  "nbformat": 4,
  "nbformat_minor": 0,
  "metadata": {
    "colab": {
      "provenance": [],
      "authorship_tag": "ABX9TyPEo6hS36xIfMM7hpC5PniE",
      "include_colab_link": true
    },
    "kernelspec": {
      "name": "python3",
      "display_name": "Python 3"
    },
    "language_info": {
      "name": "python"
    }
  },
  "cells": [
    {
      "cell_type": "markdown",
      "metadata": {
        "id": "view-in-github",
        "colab_type": "text"
      },
      "source": [
        "<a href=\"https://colab.research.google.com/github/kiplangatkorir/Hierarchial-Compression-With-KANs/blob/main/simplified_KAN_compressor.ipynb\" target=\"_parent\"><img src=\"https://colab.research.google.com/assets/colab-badge.svg\" alt=\"Open In Colab\"/></a>"
      ]
    },
    {
      "cell_type": "code",
      "execution_count": 1,
      "metadata": {
        "colab": {
          "base_uri": "https://localhost:8080/"
        },
        "id": "cbKj8bKByS31",
        "outputId": "258ccc76-bbab-4ed0-87fd-6f80e44bc37a"
      },
      "outputs": [
        {
          "output_type": "stream",
          "name": "stdout",
          "text": [
            "Requirement already satisfied: torch in /usr/local/lib/python3.10/dist-packages (2.4.1+cu121)\n",
            "Requirement already satisfied: filelock in /usr/local/lib/python3.10/dist-packages (from torch) (3.16.1)\n",
            "Requirement already satisfied: typing-extensions>=4.8.0 in /usr/local/lib/python3.10/dist-packages (from torch) (4.12.2)\n",
            "Requirement already satisfied: sympy in /usr/local/lib/python3.10/dist-packages (from torch) (1.13.3)\n",
            "Requirement already satisfied: networkx in /usr/local/lib/python3.10/dist-packages (from torch) (3.3)\n",
            "Requirement already satisfied: jinja2 in /usr/local/lib/python3.10/dist-packages (from torch) (3.1.4)\n",
            "Requirement already satisfied: fsspec in /usr/local/lib/python3.10/dist-packages (from torch) (2024.6.1)\n",
            "Requirement already satisfied: MarkupSafe>=2.0 in /usr/local/lib/python3.10/dist-packages (from jinja2->torch) (2.1.5)\n",
            "Requirement already satisfied: mpmath<1.4,>=1.1.0 in /usr/local/lib/python3.10/dist-packages (from sympy->torch) (1.3.0)\n"
          ]
        }
      ],
      "source": [
        "pip install torch"
      ]
    },
    {
      "cell_type": "code",
      "source": [
        "import torch\n",
        "import torch.nn as nn\n",
        "import numpy as np\n",
        "from sklearn.decomposition import PCA"
      ],
      "metadata": {
        "id": "3NU_WmpiyhZ9"
      },
      "execution_count": 2,
      "outputs": []
    },
    {
      "cell_type": "code",
      "source": [
        "class MemoryEfficientCompression:\n",
        "    def __init__(self, model, compression_ratio=0.5):\n",
        "        self.model = model\n",
        "        self.compression_ratio = compression_ratio\n",
        "        self.compressed_state = None\n",
        "        self.pca_models = {}\n",
        "\n",
        "    def compress(self):\n",
        "        compressed_state = {}\n",
        "        for name, param in self.model.named_parameters():\n",
        "            if param.dim() > 1:  # Only compress 2D+ tensors\n",
        "                shape = param.shape\n",
        "                flattened = param.data.flatten().numpy()\n",
        "                # Calculate n_components based on the minimum of shape dimensions\n",
        "                n_components = max(1, int(min(shape) * self.compression_ratio)) # Changed this line\n",
        "\n",
        "                pca = PCA(n_components=n_components)\n",
        "                compressed = pca.fit_transform(flattened.reshape(-1, shape[1])) # Changed this line\n",
        "\n",
        "                compressed_state[name] = {\n",
        "                    'compressed': torch.from_numpy(compressed).float(),\n",
        "                    'shape': shape,\n",
        "                    'mean': torch.from_numpy(pca.mean_).float(),\n",
        "                    'components': torch.from_numpy(pca.components_).float()\n",
        "                }\n",
        "                self.pca_models[name] = pca\n",
        "            else:\n",
        "                compressed_state[name] = param.data\n",
        "\n",
        "        self.compressed_state = compressed_state\n",
        "        return compressed_state\n",
        "\n",
        "    def decompress(self):\n",
        "        if self.compressed_state is None:\n",
        "            raise ValueError(\"Model hasn't been compressed yet.\")\n",
        "\n",
        "        decompressed_state = {}\n",
        "        for name, compressed_data in self.compressed_state.items():\n",
        "            if isinstance(compressed_data, dict):  # Compressed tensor\n",
        "                pca = self.pca_models[name]\n",
        "                decompressed = pca.inverse_transform(compressed_data['compressed'].numpy())\n",
        "                decompressed = torch.from_numpy(decompressed).float().view(compressed_data['shape'])\n",
        "                decompressed_state[name] = decompressed\n",
        "            else:  # Uncompressed tensor\n",
        "                decompressed_state[name] = compressed_data\n",
        "\n",
        "        return decompressed_state\n",
        "\n",
        "    def apply_compressed_weights(self):\n",
        "        decompressed_state = self.decompress()\n",
        "        with torch.no_grad():\n",
        "            for name, param in self.model.named_parameters():\n",
        "                param.copy_(decompressed_state[name])\n",
        "\n",
        "def compress_model(model, compression_ratio=0.5):\n",
        "    compressor = MemoryEfficientCompression(model, compression_ratio)\n",
        "    compressed_state = compressor.compress()\n",
        "\n",
        "    total_params = sum(p.numel() for p in model.parameters())\n",
        "    compressed_params = sum(c['compressed'].numel() for c in compressed_state.values() if isinstance(c, dict))\n",
        "    compressed_params += sum(c.numel() for c in compressed_state.values() if not isinstance(c, dict))\n",
        "\n",
        "    print(f\"Original parameters: {total_params}\")\n",
        "    print(f\"Compressed parameters: {compressed_params}\")\n",
        "    print(f\"Compression ratio: {compressed_params / total_params:.2f}\")\n",
        "\n",
        "    return compressor"
      ],
      "metadata": {
        "id": "HS2YbkOLykjy"
      },
      "execution_count": 5,
      "outputs": []
    },
    {
      "cell_type": "code",
      "source": [
        "# Example usage\n",
        "model = nn.Sequential(\n",
        "    nn.Linear(784, 256),\n",
        "    nn.ReLU(),\n",
        "    nn.Linear(256, 128),\n",
        "    nn.ReLU(),\n",
        "    nn.Linear(128, 10)\n",
        ")\n",
        "\n",
        "compressor = compress_model(model, compression_ratio=0.5)\n",
        "\n",
        "# To use the compressed model:\n",
        "compressor.apply_compressed_weights()\n",
        "print(\"Compression and decompression complete.\")"
      ],
      "metadata": {
        "colab": {
          "base_uri": "https://localhost:8080/"
        },
        "id": "99Ih6qLjyyZi",
        "outputId": "332907f4-417a-4608-a078-788d3712a5e5"
      },
      "execution_count": 6,
      "outputs": [
        {
          "output_type": "stream",
          "name": "stdout",
          "text": [
            "Original parameters: 235146\n",
            "Compressed parameters: 41404\n",
            "Compression ratio: 0.18\n",
            "Compression and decompression complete.\n"
          ]
        }
      ]
    }
  ]
}